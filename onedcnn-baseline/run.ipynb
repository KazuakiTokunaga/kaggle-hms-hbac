{
 "cells": [
  {
   "cell_type": "code",
   "execution_count": null,
   "metadata": {},
   "outputs": [],
   "source": [
    "import onedcnn\n",
    "\n",
    "import importlib\n",
    "importlib.reload(onedcnn)\n",
    "\n",
    "from onedcnn import Runner, RCFG\n",
    "\n",
    "RCFG.debug = True\n",
    "RCFG.debug_size = 1000\n",
    "\n",
    "run = Runner()\n",
    "run.load_dataset()\n",
    "run.run_train()\n",
    "run.write_sheet()\n",
    "run.get_prediction()"
   ]
  }
 ],
 "metadata": {
  "language_info": {
   "name": "python"
  }
 },
 "nbformat": 4,
 "nbformat_minor": 2
}
