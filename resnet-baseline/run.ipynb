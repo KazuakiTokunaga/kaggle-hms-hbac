{
 "cells": [
  {
   "cell_type": "code",
   "execution_count": null,
   "metadata": {},
   "outputs": [],
   "source": [
    "import resnet001\n",
    "\n",
    "import importlib\n",
    "importlib.reload(resnet001)\n",
    "\n",
    "from resnet001 import Runner, RCFG\n",
    "\n",
    "RCFG.debug = True\n",
    "RCFG.debug_size = 1000\n",
    "\n",
    "run = Runner()\n",
    "run.load_dataset()\n",
    "run.run_train()\n",
    "run.infer_oof()\n",
    "run.get_cv_score()\n",
    "run.write_sheet()\n",
    "# run.get_prediction()"
   ]
  }
 ],
 "metadata": {
  "language_info": {
   "name": "python"
  }
 },
 "nbformat": 4,
 "nbformat_minor": 2
}
